{
  "nbformat": 4,
  "nbformat_minor": 0,
  "metadata": {
    "colab": {
      "name": "Fake News ",
      "provenance": [],
      "collapsed_sections": []
    },
    "kernelspec": {
      "name": "python3",
      "display_name": "Python 3"
    },
    "accelerator": "TPU"
  },
  "cells": [
    {
      "cell_type": "code",
      "metadata": {
        "id": "IqYCs6n-ERXB",
        "colab_type": "code",
        "colab": {
          "base_uri": "https://localhost:8080/",
          "height": 163
        },
        "outputId": "c712c869-a906-44b2-ea10-a84ffb0e6372"
      },
      "source": [
        "from sklearn.ensemble import RandomForestClassifier\n",
        "from sklearn.feature_extraction.text import TfidfVectorizer\n",
        "import nltk\n",
        "from nltk.corpus import stopwords\n",
        "nltk.download(\"stopwords\")\n",
        "nltk.download(\"punkt\")\n",
        "nltk.download(\"averaged_perceptron_tagger\")\n",
        "import pandas as pd\n",
        "import numpy as np\n",
        "from sklearn.pipeline import Pipeline\n",
        "from sklearn.model_selection import GridSearchCV\n",
        "from sklearn.model_selection import cross_val_score\n",
        "from sklearn.model_selection import train_test_split\n",
        "from sklearn.metrics import confusion_matrix\n",
        "from sklearn.model_selection import cross_val_score\n",
        "from sklearn.metrics import classification_report\n",
        "from sklearn.metrics import r2_score\n",
        "import matplotlib.pyplot as plt"
      ],
      "execution_count": 70,
      "outputs": [
        {
          "output_type": "stream",
          "text": [
            "[nltk_data] Downloading package stopwords to /root/nltk_data...\n",
            "[nltk_data]   Package stopwords is already up-to-date!\n",
            "[nltk_data] Downloading package punkt to /root/nltk_data...\n",
            "[nltk_data]   Package punkt is already up-to-date!\n",
            "[nltk_data] Downloading package averaged_perceptron_tagger to\n",
            "[nltk_data]     /root/nltk_data...\n",
            "[nltk_data]   Package averaged_perceptron_tagger is already up-to-\n",
            "[nltk_data]       date!\n"
          ],
          "name": "stdout"
        }
      ]
    },
    {
      "cell_type": "code",
      "metadata": {
        "id": "azbsppaVGD4b",
        "colab_type": "code",
        "colab": {}
      },
      "source": [
        "df = pd.read_csv(\"train.csv\")\n",
        "df.head()\n",
        "X,Y = df.loc[:,\"Statement\"].values,df.loc[:,\"Label\"].values"
      ],
      "execution_count": 0,
      "outputs": []
    },
    {
      "cell_type": "code",
      "metadata": {
        "id": "ZS3_CwEVGHej",
        "colab_type": "code",
        "colab": {}
      },
      "source": [
        "def is_noun(pos):\n",
        "  return pos[:2]==\"NN\"  \n",
        "def keyword_inventory(doc,vocabulary=None):\n",
        "  stemmer = nltk.stem.SnowballStemmer(\"english\")\n",
        "  key_select , key_roots,cat_keys,count_kwds = dict(),dict(),list(),dict()\n",
        "  for s in doc:\n",
        "    lines = s.lower()\n",
        "    tokenized = nltk.word_tokenize(lines)\n",
        "    nouns = [word for (word,pos) in nltk.pos_tag(tokenized) if is_noun(pos)]\n",
        "  \n",
        "    for t in nouns:\n",
        "      root = stemmer.stem(t)\n",
        "      if root in key_roots:\n",
        "        key_roots[root].add(t)\n",
        "        count_kwds[root]+=1\n",
        "\n",
        "      else:\n",
        "        key_roots[root] = {t}\n",
        "        count_kwds[root] = 1\n",
        "  for s in key_roots.keys():\n",
        "    raccine = key_roots[s]\n",
        "    if len(raccine) > 1:\n",
        "      min_length = 1000\n",
        "      for k in raccine:\n",
        "        if len(k)<min_length:\n",
        "          clef = k;min_length = len(k)\n",
        "      key_select[s] = clef\n",
        "      cat_keys.append(clef)\n",
        "    else:\n",
        "      cat_keys.append(list(key_roots[s])[0])\n",
        "      key_select[s] = list(key_roots[s])[0]\n",
        "  return key_roots,key_select,cat_keys,count_kwds         "
      ],
      "execution_count": 0,
      "outputs": []
    },
    {
      "cell_type": "code",
      "metadata": {
        "id": "Lj_kVqyfKYFk",
        "colab_type": "code",
        "colab": {}
      },
      "source": [
        "# Taking output from keyword inventory\n",
        "key_select,key_roots,cat_keys,count_kwds = keyword_inventory(X)"
      ],
      "execution_count": 0,
      "outputs": []
    },
    {
      "cell_type": "code",
      "metadata": {
        "id": "vFK8Ht0cKeiC",
        "colab_type": "code",
        "colab": {}
      },
      "source": [
        "vocab = cat_keys"
      ],
      "execution_count": 0,
      "outputs": []
    },
    {
      "cell_type": "code",
      "metadata": {
        "id": "zdR-C9kiLSDJ",
        "colab_type": "code",
        "colab": {}
      },
      "source": [
        "# Making pipeline for Our Model\n",
        "pipe = Pipeline([(\"tfidf\",TfidfVectorizer(vocabulary=vocab)),\n",
        "                 (\"randomforest\",RandomForestClassifier(n_estimators=500))])\n"
      ],
      "execution_count": 0,
      "outputs": []
    },
    {
      "cell_type": "code",
      "metadata": {
        "id": "NlBZGrKhLgIO",
        "colab_type": "code",
        "colab": {
          "base_uri": "https://localhost:8080/",
          "height": 454
        },
        "outputId": "2e2d24d8-a472-4469-8ea2-3ec30f71bff9"
      },
      "source": [
        "pipe.fit(X,Y)"
      ],
      "execution_count": 111,
      "outputs": [
        {
          "output_type": "execute_result",
          "data": {
            "text/plain": [
              "[('tfidf',\n",
              "  TfidfVectorizer(analyzer='word', binary=False, decode_error='strict',\n",
              "                  dtype=<class 'numpy.float64'>, encoding='utf-8',\n",
              "                  input='content', lowercase=True, max_df=1.0, max_features=None,\n",
              "                  min_df=1, ngram_range=(1, 1), norm='l2', preprocessor=None,\n",
              "                  smooth_idf=True, stop_words=None, strip_accents=None,\n",
              "                  sublinear_tf=False, token_pattern='(?u)\\\\b\\\\w\\\\w+\\\\b',\n",
              "                  tokenizer=None, use_idf=True,\n",
              "                  vocabulary=['annies', 'group', 'third-trimester', 'abortion',\n",
              "                              'demand', 'decline', 'coal', 'start', 'gas',\n",
              "                              'president', 'george', 'w.', 'bush',\n",
              "                              'administrator', 'clinton', 'john', 'mccain',\n",
              "                              'benefit', 'doubt', 'iran', 'health', 'care',\n",
              "                              'reform', 'legislator', 'sex', 'change', 'surgery',\n",
              "                              'turnaround', 'end', 'term', ...])),\n",
              " ('randomforest',\n",
              "  RandomForestClassifier(bootstrap=True, ccp_alpha=0.0, class_weight=None,\n",
              "                         criterion='gini', max_depth=None, max_features='auto',\n",
              "                         max_leaf_nodes=None, max_samples=None,\n",
              "                         min_impurity_decrease=0.0, min_impurity_split=None,\n",
              "                         min_samples_leaf=1, min_samples_split=2,\n",
              "                         min_weight_fraction_leaf=0.0, n_estimators=500,\n",
              "                         n_jobs=None, oob_score=False, random_state=None,\n",
              "                         verbose=0, warm_start=False))]"
            ]
          },
          "metadata": {
            "tags": []
          },
          "execution_count": 111
        }
      ]
    },
    {
      "cell_type": "markdown",
      "metadata": {
        "id": "xS9taeYLTx00",
        "colab_type": "text"
      },
      "source": [
        "Testing of the trained Model"
      ]
    },
    {
      "cell_type": "code",
      "metadata": {
        "id": "HB-YSBEDL6ot",
        "colab_type": "code",
        "colab": {
          "base_uri": "https://localhost:8080/",
          "height": 198
        },
        "outputId": "caf859c4-7812-4d36-e24a-8e8bc355ab26"
      },
      "source": [
        "df_test = pd.read_csv(\"test.csv\")\n",
        "df_test.head()"
      ],
      "execution_count": 54,
      "outputs": [
        {
          "output_type": "execute_result",
          "data": {
            "text/html": [
              "<div>\n",
              "<style scoped>\n",
              "    .dataframe tbody tr th:only-of-type {\n",
              "        vertical-align: middle;\n",
              "    }\n",
              "\n",
              "    .dataframe tbody tr th {\n",
              "        vertical-align: top;\n",
              "    }\n",
              "\n",
              "    .dataframe thead th {\n",
              "        text-align: right;\n",
              "    }\n",
              "</style>\n",
              "<table border=\"1\" class=\"dataframe\">\n",
              "  <thead>\n",
              "    <tr style=\"text-align: right;\">\n",
              "      <th></th>\n",
              "      <th>Statement</th>\n",
              "      <th>Label</th>\n",
              "    </tr>\n",
              "  </thead>\n",
              "  <tbody>\n",
              "    <tr>\n",
              "      <th>0</th>\n",
              "      <td>Building a wall on the U.S.-Mexico border will...</td>\n",
              "      <td>True</td>\n",
              "    </tr>\n",
              "    <tr>\n",
              "      <th>1</th>\n",
              "      <td>Wisconsin is on pace to double the number of l...</td>\n",
              "      <td>False</td>\n",
              "    </tr>\n",
              "    <tr>\n",
              "      <th>2</th>\n",
              "      <td>Says John McCain has done nothing to help the ...</td>\n",
              "      <td>False</td>\n",
              "    </tr>\n",
              "    <tr>\n",
              "      <th>3</th>\n",
              "      <td>Suzanne Bonamici supports a plan that will cut...</td>\n",
              "      <td>True</td>\n",
              "    </tr>\n",
              "    <tr>\n",
              "      <th>4</th>\n",
              "      <td>When asked by a reporter whether hes at the ce...</td>\n",
              "      <td>False</td>\n",
              "    </tr>\n",
              "  </tbody>\n",
              "</table>\n",
              "</div>"
            ],
            "text/plain": [
              "                                           Statement  Label\n",
              "0  Building a wall on the U.S.-Mexico border will...   True\n",
              "1  Wisconsin is on pace to double the number of l...  False\n",
              "2  Says John McCain has done nothing to help the ...  False\n",
              "3  Suzanne Bonamici supports a plan that will cut...   True\n",
              "4  When asked by a reporter whether hes at the ce...  False"
            ]
          },
          "metadata": {
            "tags": []
          },
          "execution_count": 54
        }
      ]
    },
    {
      "cell_type": "code",
      "metadata": {
        "id": "qqT7LxFgREJO",
        "colab_type": "code",
        "colab": {}
      },
      "source": [
        "X_test,Y_test = df_test.loc[:,\"Statement\"].values,df_test.loc[:,\"Label\"].values\n",
        " "
      ],
      "execution_count": 0,
      "outputs": []
    },
    {
      "cell_type": "code",
      "metadata": {
        "id": "DX6KuUKyRdFd",
        "colab_type": "code",
        "colab": {}
      },
      "source": [
        "y_pred = pipe.predict(X_test)"
      ],
      "execution_count": 0,
      "outputs": []
    },
    {
      "cell_type": "code",
      "metadata": {
        "id": "ar6_OaDIR2e3",
        "colab_type": "code",
        "colab": {
          "base_uri": "https://localhost:8080/",
          "height": 35
        },
        "outputId": "1be1df30-4cde-4e7c-92b3-7aa10855c16b"
      },
      "source": [
        "# Calculating r2_score for our model\n",
        "Y_test = np.where(Y_test==True,1,0)\n",
        "y_pred = np.where(y_pred==True,1,0)\n",
        "r2_score(Y_test,y_pred)"
      ],
      "execution_count": 59,
      "outputs": [
        {
          "output_type": "execute_result",
          "data": {
            "text/plain": [
              "-0.6263916244418337"
            ]
          },
          "metadata": {
            "tags": []
          },
          "execution_count": 59
        }
      ]
    },
    {
      "cell_type": "code",
      "metadata": {
        "id": "dJvgL2fYSa_7",
        "colab_type": "code",
        "colab": {
          "base_uri": "https://localhost:8080/",
          "height": 35
        },
        "outputId": "1d6b3437-92ad-47aa-90ff-2fc76fb36691"
      },
      "source": [
        "# Getting accuracy of our model.\n",
        "np.mean(y_pred==Y_test)"
      ],
      "execution_count": 60,
      "outputs": [
        {
          "output_type": "execute_result",
          "data": {
            "text/plain": [
              "0.5962367698941592"
            ]
          },
          "metadata": {
            "tags": []
          },
          "execution_count": 60
        }
      ]
    },
    {
      "cell_type": "code",
      "metadata": {
        "id": "aDW0RlGSSoYm",
        "colab_type": "code",
        "colab": {}
      },
      "source": [
        "# testing on a custom given statement\n",
        "statement = [\"America will soon be going to be on its knees\"]\n",
        "prediction = pipe.predict(statement)"
      ],
      "execution_count": 0,
      "outputs": []
    },
    {
      "cell_type": "code",
      "metadata": {
        "id": "vLYTbgbhSxSf",
        "colab_type": "code",
        "colab": {
          "base_uri": "https://localhost:8080/",
          "height": 35
        },
        "outputId": "2db4ccd8-37a3-4923-bed2-73d9c5094653"
      },
      "source": [
        "prediction"
      ],
      "execution_count": 62,
      "outputs": [
        {
          "output_type": "execute_result",
          "data": {
            "text/plain": [
              "array([False])"
            ]
          },
          "metadata": {
            "tags": []
          },
          "execution_count": 62
        }
      ]
    },
    {
      "cell_type": "code",
      "metadata": {
        "id": "Yx_dr395SzIv",
        "colab_type": "code",
        "colab": {}
      },
      "source": [
        "# Saving our model\n",
        "import pickle\n",
        "pickle.dump(pipe,open(\"FakeNewsDetection.pkl\",\"wb\"),protocol=4)"
      ],
      "execution_count": 0,
      "outputs": []
    },
    {
      "cell_type": "markdown",
      "metadata": {
        "id": "iY6KkGRVftlR",
        "colab_type": "text"
      },
      "source": [
        "### Now we are evaluating the model"
      ]
    },
    {
      "cell_type": "code",
      "metadata": {
        "id": "njrQ7siYhTV-",
        "colab_type": "code",
        "colab": {}
      },
      "source": [
        "a = confusion_matrix(y_pred,Y_test)"
      ],
      "execution_count": 0,
      "outputs": []
    },
    {
      "cell_type": "code",
      "metadata": {
        "id": "BVF6BPOdiM6m",
        "colab_type": "code",
        "colab": {
          "base_uri": "https://localhost:8080/",
          "height": 397
        },
        "outputId": "4c999261-ca70-4756-fccb-7a31db8d363a"
      },
      "source": [
        "# Plotting our confusion matrix\n",
        "fig = plt.figure(figsize=(3,3))\n",
        "ax = fig.add_axes([0.1,0.1,1.6,1.6])\n",
        "\n",
        "ax.matshow(a,cmap=\"hot_r\")\n",
        "for i in range(len(a)):\n",
        "  for j in range(len(a)):\n",
        "    ax.text(i,j,s=a[i][j],bbox=dict(facecolor=\"white\",alpha=0.8),fontsize=12)\n",
        "ax.set_xticklabels([\" \",\"True\",\"False\"])\n",
        "ax.set_yticklabels([\" \",\"True\",\"False\"])\n",
        "plt.show()"
      ],
      "execution_count": 87,
      "outputs": [
        {
          "output_type": "display_data",
          "data": {
            "image/png": "[encoded data removed]",
            "text/plain": [
              "<Figure size 216x216 with 1 Axes>"
            ]
          },
          "metadata": {
            "tags": []
          }
        }
      ]
    },
    {
      "cell_type": "code",
      "metadata": {
        "id": "-ehWx946iZPw",
        "colab_type": "code",
        "colab": {}
      },
      "source": [
        "# Printing out its classification report\n",
        "clf_report = classification_report(Y_test,y_pred) "
      ],
      "execution_count": 0,
      "outputs": []
    },
    {
      "cell_type": "code",
      "metadata": {
        "id": "VleKiYZolXrq",
        "colab_type": "code",
        "colab": {
          "base_uri": "https://localhost:8080/",
          "height": 163
        },
        "outputId": "49a34793-ac40-4d2c-f63b-ccf8d202a95c"
      },
      "source": [
        "clf_report.rstrip().split(\"\\n\")"
      ],
      "execution_count": 99,
      "outputs": [
        {
          "output_type": "execute_result",
          "data": {
            "text/plain": [
              "['              precision    recall  f1-score   support',\n",
              " '',\n",
              " '           0       0.59      0.40      0.47      1169',\n",
              " '           1       0.60      0.77      0.67      1382',\n",
              " '',\n",
              " '    accuracy                           0.60      2551',\n",
              " '   macro avg       0.59      0.58      0.57      2551',\n",
              " 'weighted avg       0.59      0.60      0.58      2551']"
            ]
          },
          "metadata": {
            "tags": []
          },
          "execution_count": 99
        }
      ]
    },
    {
      "cell_type": "code",
      "metadata": {
        "id": "qsyo1RuMlbrw",
        "colab_type": "code",
        "colab": {}
      },
      "source": [
        "# Last but not least calculating the cross_val_score\n",
        "result = cross_val_score(pipe,X,Y,scoring=\"accuracy\",cv=10)"
      ],
      "execution_count": 0,
      "outputs": []
    },
    {
      "cell_type": "code",
      "metadata": {
        "id": "r8XdWJ6GmM9B",
        "colab_type": "code",
        "colab": {
          "base_uri": "https://localhost:8080/",
          "height": 54
        },
        "outputId": "0be40470-f188-4ac0-80e6-e4d986997538"
      },
      "source": [
        "result"
      ],
      "execution_count": 105,
      "outputs": [
        {
          "output_type": "execute_result",
          "data": {
            "text/plain": [
              "array([0.59765625, 0.60253906, 0.57421875, 0.61425781, 0.59082031,\n",
              "       0.60839844, 0.60742188, 0.56738281, 0.58886719, 0.625     ])"
            ]
          },
          "metadata": {
            "tags": []
          },
          "execution_count": 105
        }
      ]
    },
    {
      "cell_type": "markdown",
      "metadata": {
        "id": "hhxfWQf1mT1B",
        "colab_type": "text"
      },
      "source": [
        "Hence the maximum accuracy we got on the 10th fold ."
      ]
    },
    {
      "cell_type": "code",
      "metadata": {
        "id": "ptqB8buzmXE-",
        "colab_type": "code",
        "colab": {}
      },
      "source": [
        "clf = pickle.load(open(\"FakeNewsDetection.pkl\",\"rb\"),encoding=\"utf-8\")"
      ],
      "execution_count": 0,
      "outputs": []
    },
    {
      "cell_type": "code",
      "metadata": {
        "id": "Rdan4346sX5y",
        "colab_type": "code",
        "colab": {
          "base_uri": "https://localhost:8080/",
          "height": 35
        },
        "outputId": "9bebd674-b7f3-45b9-8dcc-5b7014bcf1bf"
      },
      "source": [
        ""
      ],
      "execution_count": 115,
      "outputs": [
        {
          "output_type": "execute_result",
          "data": {
            "text/plain": [
              "array([ True])"
            ]
          },
          "metadata": {
            "tags": []
          },
          "execution_count": 115
        }
      ]
    },
    {
      "cell_type": "code",
      "metadata": {
        "id": "dwUDkvT-st3Q",
        "colab_type": "code",
        "colab": {}
      },
      "source": [
        ""
      ],
      "execution_count": 0,
      "outputs": []
    }
  ]
}